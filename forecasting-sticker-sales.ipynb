{
 "cells": [
  {
   "cell_type": "code",
   "execution_count": 1,
   "id": "939749e1",
   "metadata": {
    "_cell_guid": "b1076dfc-b9ad-4769-8c92-a6c4dae69d19",
    "_uuid": "8f2839f25d086af736a60e9eeb907d3b93b6e0e5",
    "execution": {
     "iopub.execute_input": "2025-03-20T07:57:44.251299Z",
     "iopub.status.busy": "2025-03-20T07:57:44.250947Z",
     "iopub.status.idle": "2025-03-20T07:57:45.285386Z",
     "shell.execute_reply": "2025-03-20T07:57:45.284111Z"
    },
    "papermill": {
     "duration": 1.04336,
     "end_time": "2025-03-20T07:57:45.287244",
     "exception": false,
     "start_time": "2025-03-20T07:57:44.243884",
     "status": "completed"
    },
    "tags": []
   },
   "outputs": [
    {
     "name": "stdout",
     "output_type": "stream",
     "text": [
      "/kaggle/input/playground-series-s5e1/sample_submission.csv\n",
      "/kaggle/input/playground-series-s5e1/train.csv\n",
      "/kaggle/input/playground-series-s5e1/test.csv\n"
     ]
    }
   ],
   "source": [
    "# This Python 3 environment comes with many helpful analytics libraries installed\n",
    "# It is defined by the kaggle/python Docker image: https://github.com/kaggle/docker-python\n",
    "# For example, here's several helpful packages to load\n",
    "\n",
    "import numpy as np # linear algebra\n",
    "import pandas as pd # data processing, CSV file I/O (e.g. pd.read_csv)\n",
    "\n",
    "# Input data files are available in the read-only \"../input/\" directory\n",
    "# For example, running this (by clicking run or pressing Shift+Enter) will list all files under the input directory\n",
    "\n",
    "import os\n",
    "for dirname, _, filenames in os.walk('/kaggle/input'):\n",
    "    for filename in filenames:\n",
    "        print(os.path.join(dirname, filename))\n",
    "\n",
    "# You can write up to 20GB to the current directory (/kaggle/working/) that gets preserved as output when you create a version using \"Save & Run All\" \n",
    "# You can also write temporary files to /kaggle/temp/, but they won't be saved outside of the current session"
   ]
  },
  {
   "cell_type": "code",
   "execution_count": 2,
   "id": "79c3137e",
   "metadata": {
    "execution": {
     "iopub.execute_input": "2025-03-20T07:57:45.299490Z",
     "iopub.status.busy": "2025-03-20T07:57:45.298959Z",
     "iopub.status.idle": "2025-03-20T07:57:47.806722Z",
     "shell.execute_reply": "2025-03-20T07:57:47.805617Z"
    },
    "papermill": {
     "duration": 2.515961,
     "end_time": "2025-03-20T07:57:47.808767",
     "exception": false,
     "start_time": "2025-03-20T07:57:45.292806",
     "status": "completed"
    },
    "tags": []
   },
   "outputs": [],
   "source": [
    "import pandas as pd\n",
    "import numpy as np\n",
    "from sklearn.preprocessing import LabelEncoder\n",
    "import matplotlib.pyplot as plt\n",
    "import seaborn as sns\n",
    "from sklearn.model_selection import train_test_split\n",
    "from sklearn.ensemble import RandomForestRegressor\n",
    "from sklearn.tree import DecisionTreeRegressor\n",
    "from sklearn.metrics import mean_squared_error"
   ]
  },
  {
   "cell_type": "code",
   "execution_count": 3,
   "id": "92cc154e",
   "metadata": {
    "execution": {
     "iopub.execute_input": "2025-03-20T07:57:47.820928Z",
     "iopub.status.busy": "2025-03-20T07:57:47.820376Z",
     "iopub.status.idle": "2025-03-20T07:57:48.510766Z",
     "shell.execute_reply": "2025-03-20T07:57:48.509864Z"
    },
    "papermill": {
     "duration": 0.698408,
     "end_time": "2025-03-20T07:57:48.512676",
     "exception": false,
     "start_time": "2025-03-20T07:57:47.814268",
     "status": "completed"
    },
    "tags": []
   },
   "outputs": [],
   "source": [
    "train_df = pd.read_csv('/kaggle/input/playground-series-s5e1/train.csv', parse_dates=['date'], index_col='id')\n",
    "test_df = pd.read_csv('/kaggle/input/playground-series-s5e1/test.csv', parse_dates=['date'], index_col='id')\n",
    "submission_df =  pd.read_csv('/kaggle/input/playground-series-s5e1/sample_submission.csv')"
   ]
  },
  {
   "cell_type": "code",
   "execution_count": 4,
   "id": "1985e2b3",
   "metadata": {
    "execution": {
     "iopub.execute_input": "2025-03-20T07:57:48.524699Z",
     "iopub.status.busy": "2025-03-20T07:57:48.524311Z",
     "iopub.status.idle": "2025-03-20T07:57:48.547664Z",
     "shell.execute_reply": "2025-03-20T07:57:48.546506Z"
    },
    "papermill": {
     "duration": 0.030916,
     "end_time": "2025-03-20T07:57:48.549179",
     "exception": false,
     "start_time": "2025-03-20T07:57:48.518263",
     "status": "completed"
    },
    "tags": []
   },
   "outputs": [
    {
     "name": "stderr",
     "output_type": "stream",
     "text": [
      "/usr/local/lib/python3.10/dist-packages/pandas/io/formats/format.py:1458: RuntimeWarning: invalid value encountered in greater\n",
      "  has_large_values = (abs_vals > 1e6).any()\n",
      "/usr/local/lib/python3.10/dist-packages/pandas/io/formats/format.py:1459: RuntimeWarning: invalid value encountered in less\n",
      "  has_small_values = ((abs_vals < 10 ** (-self.digits)) & (abs_vals > 0)).any()\n",
      "/usr/local/lib/python3.10/dist-packages/pandas/io/formats/format.py:1459: RuntimeWarning: invalid value encountered in greater\n",
      "  has_small_values = ((abs_vals < 10 ** (-self.digits)) & (abs_vals > 0)).any()\n"
     ]
    },
    {
     "data": {
      "text/html": [
       "<div>\n",
       "<style scoped>\n",
       "    .dataframe tbody tr th:only-of-type {\n",
       "        vertical-align: middle;\n",
       "    }\n",
       "\n",
       "    .dataframe tbody tr th {\n",
       "        vertical-align: top;\n",
       "    }\n",
       "\n",
       "    .dataframe thead th {\n",
       "        text-align: right;\n",
       "    }\n",
       "</style>\n",
       "<table border=\"1\" class=\"dataframe\">\n",
       "  <thead>\n",
       "    <tr style=\"text-align: right;\">\n",
       "      <th></th>\n",
       "      <th>date</th>\n",
       "      <th>country</th>\n",
       "      <th>store</th>\n",
       "      <th>product</th>\n",
       "      <th>num_sold</th>\n",
       "    </tr>\n",
       "    <tr>\n",
       "      <th>id</th>\n",
       "      <th></th>\n",
       "      <th></th>\n",
       "      <th></th>\n",
       "      <th></th>\n",
       "      <th></th>\n",
       "    </tr>\n",
       "  </thead>\n",
       "  <tbody>\n",
       "    <tr>\n",
       "      <th>0</th>\n",
       "      <td>2010-01-01</td>\n",
       "      <td>Canada</td>\n",
       "      <td>Discount Stickers</td>\n",
       "      <td>Holographic Goose</td>\n",
       "      <td>NaN</td>\n",
       "    </tr>\n",
       "    <tr>\n",
       "      <th>1</th>\n",
       "      <td>2010-01-01</td>\n",
       "      <td>Canada</td>\n",
       "      <td>Discount Stickers</td>\n",
       "      <td>Kaggle</td>\n",
       "      <td>973.0</td>\n",
       "    </tr>\n",
       "    <tr>\n",
       "      <th>2</th>\n",
       "      <td>2010-01-01</td>\n",
       "      <td>Canada</td>\n",
       "      <td>Discount Stickers</td>\n",
       "      <td>Kaggle Tiers</td>\n",
       "      <td>906.0</td>\n",
       "    </tr>\n",
       "    <tr>\n",
       "      <th>3</th>\n",
       "      <td>2010-01-01</td>\n",
       "      <td>Canada</td>\n",
       "      <td>Discount Stickers</td>\n",
       "      <td>Kerneler</td>\n",
       "      <td>423.0</td>\n",
       "    </tr>\n",
       "    <tr>\n",
       "      <th>4</th>\n",
       "      <td>2010-01-01</td>\n",
       "      <td>Canada</td>\n",
       "      <td>Discount Stickers</td>\n",
       "      <td>Kerneler Dark Mode</td>\n",
       "      <td>491.0</td>\n",
       "    </tr>\n",
       "  </tbody>\n",
       "</table>\n",
       "</div>"
      ],
      "text/plain": [
       "         date country              store             product  num_sold\n",
       "id                                                                    \n",
       "0  2010-01-01  Canada  Discount Stickers   Holographic Goose       NaN\n",
       "1  2010-01-01  Canada  Discount Stickers              Kaggle     973.0\n",
       "2  2010-01-01  Canada  Discount Stickers        Kaggle Tiers     906.0\n",
       "3  2010-01-01  Canada  Discount Stickers            Kerneler     423.0\n",
       "4  2010-01-01  Canada  Discount Stickers  Kerneler Dark Mode     491.0"
      ]
     },
     "execution_count": 4,
     "metadata": {},
     "output_type": "execute_result"
    }
   ],
   "source": [
    "train_df.head()"
   ]
  },
  {
   "cell_type": "code",
   "execution_count": 5,
   "id": "7c8a8926",
   "metadata": {
    "execution": {
     "iopub.execute_input": "2025-03-20T07:57:48.563982Z",
     "iopub.status.busy": "2025-03-20T07:57:48.563612Z",
     "iopub.status.idle": "2025-03-20T07:57:48.628653Z",
     "shell.execute_reply": "2025-03-20T07:57:48.627277Z"
    },
    "papermill": {
     "duration": 0.075537,
     "end_time": "2025-03-20T07:57:48.630352",
     "exception": false,
     "start_time": "2025-03-20T07:57:48.554815",
     "status": "completed"
    },
    "tags": []
   },
   "outputs": [
    {
     "name": "stdout",
     "output_type": "stream",
     "text": [
      "<class 'pandas.core.frame.DataFrame'>\n",
      "Index: 230130 entries, 0 to 230129\n",
      "Data columns (total 5 columns):\n",
      " #   Column    Non-Null Count   Dtype         \n",
      "---  ------    --------------   -----         \n",
      " 0   date      230130 non-null  datetime64[ns]\n",
      " 1   country   230130 non-null  object        \n",
      " 2   store     230130 non-null  object        \n",
      " 3   product   230130 non-null  object        \n",
      " 4   num_sold  221259 non-null  float64       \n",
      "dtypes: datetime64[ns](1), float64(1), object(3)\n",
      "memory usage: 10.5+ MB\n"
     ]
    }
   ],
   "source": [
    "train_df.info()"
   ]
  },
  {
   "cell_type": "code",
   "execution_count": 6,
   "id": "46fbe96f",
   "metadata": {
    "execution": {
     "iopub.execute_input": "2025-03-20T07:57:48.642759Z",
     "iopub.status.busy": "2025-03-20T07:57:48.642366Z",
     "iopub.status.idle": "2025-03-20T07:57:48.688650Z",
     "shell.execute_reply": "2025-03-20T07:57:48.687567Z"
    },
    "papermill": {
     "duration": 0.054292,
     "end_time": "2025-03-20T07:57:48.690366",
     "exception": false,
     "start_time": "2025-03-20T07:57:48.636074",
     "status": "completed"
    },
    "tags": []
   },
   "outputs": [
    {
     "data": {
      "text/plain": [
       "date           0\n",
       "country        0\n",
       "store          0\n",
       "product        0\n",
       "num_sold    8871\n",
       "dtype: int64"
      ]
     },
     "execution_count": 6,
     "metadata": {},
     "output_type": "execute_result"
    }
   ],
   "source": [
    "train_df.isnull().sum()"
   ]
  },
  {
   "cell_type": "code",
   "execution_count": 7,
   "id": "94a27bc7",
   "metadata": {
    "execution": {
     "iopub.execute_input": "2025-03-20T07:57:48.702898Z",
     "iopub.status.busy": "2025-03-20T07:57:48.702570Z",
     "iopub.status.idle": "2025-03-20T07:57:48.713135Z",
     "shell.execute_reply": "2025-03-20T07:57:48.712264Z"
    },
    "papermill": {
     "duration": 0.018609,
     "end_time": "2025-03-20T07:57:48.714823",
     "exception": false,
     "start_time": "2025-03-20T07:57:48.696214",
     "status": "completed"
    },
    "tags": []
   },
   "outputs": [],
   "source": [
    "#filling in null values with median values\n",
    "train_df['num_sold']=train_df['num_sold'].fillna(train_df['num_sold'].median())"
   ]
  },
  {
   "cell_type": "code",
   "execution_count": 8,
   "id": "4a65ea99",
   "metadata": {
    "execution": {
     "iopub.execute_input": "2025-03-20T07:57:48.727436Z",
     "iopub.status.busy": "2025-03-20T07:57:48.727064Z",
     "iopub.status.idle": "2025-03-20T07:57:48.773916Z",
     "shell.execute_reply": "2025-03-20T07:57:48.772843Z"
    },
    "papermill": {
     "duration": 0.055237,
     "end_time": "2025-03-20T07:57:48.775760",
     "exception": false,
     "start_time": "2025-03-20T07:57:48.720523",
     "status": "completed"
    },
    "tags": []
   },
   "outputs": [
    {
     "data": {
      "text/plain": [
       "date        0\n",
       "country     0\n",
       "store       0\n",
       "product     0\n",
       "num_sold    0\n",
       "dtype: int64"
      ]
     },
     "execution_count": 8,
     "metadata": {},
     "output_type": "execute_result"
    }
   ],
   "source": [
    "train_df.isnull().sum()"
   ]
  },
  {
   "cell_type": "code",
   "execution_count": 9,
   "id": "3c6bfbc6",
   "metadata": {
    "execution": {
     "iopub.execute_input": "2025-03-20T07:57:48.788338Z",
     "iopub.status.busy": "2025-03-20T07:57:48.787960Z",
     "iopub.status.idle": "2025-03-20T07:57:48.822937Z",
     "shell.execute_reply": "2025-03-20T07:57:48.821929Z"
    },
    "papermill": {
     "duration": 0.043084,
     "end_time": "2025-03-20T07:57:48.824604",
     "exception": false,
     "start_time": "2025-03-20T07:57:48.781520",
     "status": "completed"
    },
    "tags": []
   },
   "outputs": [
    {
     "data": {
      "text/html": [
       "<div>\n",
       "<style scoped>\n",
       "    .dataframe tbody tr th:only-of-type {\n",
       "        vertical-align: middle;\n",
       "    }\n",
       "\n",
       "    .dataframe tbody tr th {\n",
       "        vertical-align: top;\n",
       "    }\n",
       "\n",
       "    .dataframe thead th {\n",
       "        text-align: right;\n",
       "    }\n",
       "</style>\n",
       "<table border=\"1\" class=\"dataframe\">\n",
       "  <thead>\n",
       "    <tr style=\"text-align: right;\">\n",
       "      <th></th>\n",
       "      <th>date</th>\n",
       "      <th>num_sold</th>\n",
       "    </tr>\n",
       "  </thead>\n",
       "  <tbody>\n",
       "    <tr>\n",
       "      <th>count</th>\n",
       "      <td>230130</td>\n",
       "      <td>230130.000000</td>\n",
       "    </tr>\n",
       "    <tr>\n",
       "      <th>mean</th>\n",
       "      <td>2013-07-02 00:00:00</td>\n",
       "      <td>746.840529</td>\n",
       "    </tr>\n",
       "    <tr>\n",
       "      <th>min</th>\n",
       "      <td>2010-01-01 00:00:00</td>\n",
       "      <td>5.000000</td>\n",
       "    </tr>\n",
       "    <tr>\n",
       "      <th>25%</th>\n",
       "      <td>2011-10-02 00:00:00</td>\n",
       "      <td>230.000000</td>\n",
       "    </tr>\n",
       "    <tr>\n",
       "      <th>50%</th>\n",
       "      <td>2013-07-02 00:00:00</td>\n",
       "      <td>605.000000</td>\n",
       "    </tr>\n",
       "    <tr>\n",
       "      <th>75%</th>\n",
       "      <td>2015-04-02 00:00:00</td>\n",
       "      <td>1084.000000</td>\n",
       "    </tr>\n",
       "    <tr>\n",
       "      <th>max</th>\n",
       "      <td>2016-12-31 00:00:00</td>\n",
       "      <td>5939.000000</td>\n",
       "    </tr>\n",
       "    <tr>\n",
       "      <th>std</th>\n",
       "      <td>NaN</td>\n",
       "      <td>677.328201</td>\n",
       "    </tr>\n",
       "  </tbody>\n",
       "</table>\n",
       "</div>"
      ],
      "text/plain": [
       "                      date       num_sold\n",
       "count               230130  230130.000000\n",
       "mean   2013-07-02 00:00:00     746.840529\n",
       "min    2010-01-01 00:00:00       5.000000\n",
       "25%    2011-10-02 00:00:00     230.000000\n",
       "50%    2013-07-02 00:00:00     605.000000\n",
       "75%    2015-04-02 00:00:00    1084.000000\n",
       "max    2016-12-31 00:00:00    5939.000000\n",
       "std                    NaN     677.328201"
      ]
     },
     "execution_count": 9,
     "metadata": {},
     "output_type": "execute_result"
    }
   ],
   "source": [
    "train_df.describe()"
   ]
  },
  {
   "cell_type": "code",
   "execution_count": 10,
   "id": "62c35ece",
   "metadata": {
    "execution": {
     "iopub.execute_input": "2025-03-20T07:57:48.837726Z",
     "iopub.status.busy": "2025-03-20T07:57:48.837350Z",
     "iopub.status.idle": "2025-03-20T07:57:48.912184Z",
     "shell.execute_reply": "2025-03-20T07:57:48.911003Z"
    },
    "papermill": {
     "duration": 0.083518,
     "end_time": "2025-03-20T07:57:48.914153",
     "exception": false,
     "start_time": "2025-03-20T07:57:48.830635",
     "status": "completed"
    },
    "tags": []
   },
   "outputs": [],
   "source": [
    "# Extract date features\n",
    "for df in [train_df, test_df]:\n",
    "    df['year'] = df['date'].dt.year\n",
    "    df['month'] = df['date'].dt.month\n",
    "    df['day'] = df['date'].dt.day\n",
    "    df['dayofweek'] = df['date'].dt.dayofweek\n",
    "    df['weekofyear'] = df['date'].dt.isocalendar().week"
   ]
  },
  {
   "cell_type": "code",
   "execution_count": 11,
   "id": "89d4fe62",
   "metadata": {
    "execution": {
     "iopub.execute_input": "2025-03-20T07:57:48.927068Z",
     "iopub.status.busy": "2025-03-20T07:57:48.926739Z",
     "iopub.status.idle": "2025-03-20T07:57:48.939901Z",
     "shell.execute_reply": "2025-03-20T07:57:48.939003Z"
    },
    "papermill": {
     "duration": 0.02163,
     "end_time": "2025-03-20T07:57:48.941798",
     "exception": false,
     "start_time": "2025-03-20T07:57:48.920168",
     "status": "completed"
    },
    "tags": []
   },
   "outputs": [
    {
     "data": {
      "text/html": [
       "<div>\n",
       "<style scoped>\n",
       "    .dataframe tbody tr th:only-of-type {\n",
       "        vertical-align: middle;\n",
       "    }\n",
       "\n",
       "    .dataframe tbody tr th {\n",
       "        vertical-align: top;\n",
       "    }\n",
       "\n",
       "    .dataframe thead th {\n",
       "        text-align: right;\n",
       "    }\n",
       "</style>\n",
       "<table border=\"1\" class=\"dataframe\">\n",
       "  <thead>\n",
       "    <tr style=\"text-align: right;\">\n",
       "      <th></th>\n",
       "      <th>date</th>\n",
       "      <th>country</th>\n",
       "      <th>store</th>\n",
       "      <th>product</th>\n",
       "      <th>num_sold</th>\n",
       "      <th>year</th>\n",
       "      <th>month</th>\n",
       "      <th>day</th>\n",
       "      <th>dayofweek</th>\n",
       "      <th>weekofyear</th>\n",
       "    </tr>\n",
       "    <tr>\n",
       "      <th>id</th>\n",
       "      <th></th>\n",
       "      <th></th>\n",
       "      <th></th>\n",
       "      <th></th>\n",
       "      <th></th>\n",
       "      <th></th>\n",
       "      <th></th>\n",
       "      <th></th>\n",
       "      <th></th>\n",
       "      <th></th>\n",
       "    </tr>\n",
       "  </thead>\n",
       "  <tbody>\n",
       "    <tr>\n",
       "      <th>0</th>\n",
       "      <td>2010-01-01</td>\n",
       "      <td>Canada</td>\n",
       "      <td>Discount Stickers</td>\n",
       "      <td>Holographic Goose</td>\n",
       "      <td>605.0</td>\n",
       "      <td>2010</td>\n",
       "      <td>1</td>\n",
       "      <td>1</td>\n",
       "      <td>4</td>\n",
       "      <td>53</td>\n",
       "    </tr>\n",
       "    <tr>\n",
       "      <th>1</th>\n",
       "      <td>2010-01-01</td>\n",
       "      <td>Canada</td>\n",
       "      <td>Discount Stickers</td>\n",
       "      <td>Kaggle</td>\n",
       "      <td>973.0</td>\n",
       "      <td>2010</td>\n",
       "      <td>1</td>\n",
       "      <td>1</td>\n",
       "      <td>4</td>\n",
       "      <td>53</td>\n",
       "    </tr>\n",
       "    <tr>\n",
       "      <th>2</th>\n",
       "      <td>2010-01-01</td>\n",
       "      <td>Canada</td>\n",
       "      <td>Discount Stickers</td>\n",
       "      <td>Kaggle Tiers</td>\n",
       "      <td>906.0</td>\n",
       "      <td>2010</td>\n",
       "      <td>1</td>\n",
       "      <td>1</td>\n",
       "      <td>4</td>\n",
       "      <td>53</td>\n",
       "    </tr>\n",
       "    <tr>\n",
       "      <th>3</th>\n",
       "      <td>2010-01-01</td>\n",
       "      <td>Canada</td>\n",
       "      <td>Discount Stickers</td>\n",
       "      <td>Kerneler</td>\n",
       "      <td>423.0</td>\n",
       "      <td>2010</td>\n",
       "      <td>1</td>\n",
       "      <td>1</td>\n",
       "      <td>4</td>\n",
       "      <td>53</td>\n",
       "    </tr>\n",
       "    <tr>\n",
       "      <th>4</th>\n",
       "      <td>2010-01-01</td>\n",
       "      <td>Canada</td>\n",
       "      <td>Discount Stickers</td>\n",
       "      <td>Kerneler Dark Mode</td>\n",
       "      <td>491.0</td>\n",
       "      <td>2010</td>\n",
       "      <td>1</td>\n",
       "      <td>1</td>\n",
       "      <td>4</td>\n",
       "      <td>53</td>\n",
       "    </tr>\n",
       "  </tbody>\n",
       "</table>\n",
       "</div>"
      ],
      "text/plain": [
       "         date country              store             product  num_sold  year  \\\n",
       "id                                                                             \n",
       "0  2010-01-01  Canada  Discount Stickers   Holographic Goose     605.0  2010   \n",
       "1  2010-01-01  Canada  Discount Stickers              Kaggle     973.0  2010   \n",
       "2  2010-01-01  Canada  Discount Stickers        Kaggle Tiers     906.0  2010   \n",
       "3  2010-01-01  Canada  Discount Stickers            Kerneler     423.0  2010   \n",
       "4  2010-01-01  Canada  Discount Stickers  Kerneler Dark Mode     491.0  2010   \n",
       "\n",
       "    month  day  dayofweek  weekofyear  \n",
       "id                                     \n",
       "0       1    1          4          53  \n",
       "1       1    1          4          53  \n",
       "2       1    1          4          53  \n",
       "3       1    1          4          53  \n",
       "4       1    1          4          53  "
      ]
     },
     "execution_count": 11,
     "metadata": {},
     "output_type": "execute_result"
    }
   ],
   "source": [
    "train_df.head()"
   ]
  },
  {
   "cell_type": "code",
   "execution_count": 12,
   "id": "9f156cfc",
   "metadata": {
    "execution": {
     "iopub.execute_input": "2025-03-20T07:57:48.955042Z",
     "iopub.status.busy": "2025-03-20T07:57:48.954697Z",
     "iopub.status.idle": "2025-03-20T07:57:49.142084Z",
     "shell.execute_reply": "2025-03-20T07:57:49.141256Z"
    },
    "papermill": {
     "duration": 0.195977,
     "end_time": "2025-03-20T07:57:49.143835",
     "exception": false,
     "start_time": "2025-03-20T07:57:48.947858",
     "status": "completed"
    },
    "tags": []
   },
   "outputs": [],
   "source": [
    "# Encode categorical columns\n",
    "encoder = LabelEncoder()\n",
    "for col in ['country', 'store', 'product']:\n",
    "    train_df[col] = encoder.fit_transform(train_df[col])\n",
    "    test_df[col] = encoder.transform(test_df[col])"
   ]
  },
  {
   "cell_type": "code",
   "execution_count": 13,
   "id": "470e8172",
   "metadata": {
    "execution": {
     "iopub.execute_input": "2025-03-20T07:57:49.157770Z",
     "iopub.status.busy": "2025-03-20T07:57:49.157367Z",
     "iopub.status.idle": "2025-03-20T07:57:49.166679Z",
     "shell.execute_reply": "2025-03-20T07:57:49.165725Z"
    },
    "papermill": {
     "duration": 0.018319,
     "end_time": "2025-03-20T07:57:49.168356",
     "exception": false,
     "start_time": "2025-03-20T07:57:49.150037",
     "status": "completed"
    },
    "tags": []
   },
   "outputs": [
    {
     "data": {
      "text/plain": [
       "array([0, 1, 2, 3, 4, 5])"
      ]
     },
     "execution_count": 13,
     "metadata": {},
     "output_type": "execute_result"
    }
   ],
   "source": [
    "train_df['country'].unique()"
   ]
  },
  {
   "cell_type": "code",
   "execution_count": 14,
   "id": "e79ec0b4",
   "metadata": {
    "execution": {
     "iopub.execute_input": "2025-03-20T07:57:49.181860Z",
     "iopub.status.busy": "2025-03-20T07:57:49.181535Z",
     "iopub.status.idle": "2025-03-20T07:57:49.188125Z",
     "shell.execute_reply": "2025-03-20T07:57:49.187298Z"
    },
    "papermill": {
     "duration": 0.014998,
     "end_time": "2025-03-20T07:57:49.189695",
     "exception": false,
     "start_time": "2025-03-20T07:57:49.174697",
     "status": "completed"
    },
    "tags": []
   },
   "outputs": [
    {
     "data": {
      "text/plain": [
       "array([0, 1, 2, 3, 4])"
      ]
     },
     "execution_count": 14,
     "metadata": {},
     "output_type": "execute_result"
    }
   ],
   "source": [
    "train_df['product'].unique()"
   ]
  },
  {
   "cell_type": "code",
   "execution_count": 15,
   "id": "33dcd81f",
   "metadata": {
    "execution": {
     "iopub.execute_input": "2025-03-20T07:57:49.203379Z",
     "iopub.status.busy": "2025-03-20T07:57:49.203036Z",
     "iopub.status.idle": "2025-03-20T07:57:49.290722Z",
     "shell.execute_reply": "2025-03-20T07:57:49.289442Z"
    },
    "papermill": {
     "duration": 0.096708,
     "end_time": "2025-03-20T07:57:49.292718",
     "exception": false,
     "start_time": "2025-03-20T07:57:49.196010",
     "status": "completed"
    },
    "tags": []
   },
   "outputs": [],
   "source": [
    "train_df.drop_duplicates(inplace=True)"
   ]
  },
  {
   "cell_type": "code",
   "execution_count": 16,
   "id": "7a300a72",
   "metadata": {
    "execution": {
     "iopub.execute_input": "2025-03-20T07:57:49.306709Z",
     "iopub.status.busy": "2025-03-20T07:57:49.306313Z",
     "iopub.status.idle": "2025-03-20T07:57:49.345863Z",
     "shell.execute_reply": "2025-03-20T07:57:49.344842Z"
    },
    "papermill": {
     "duration": 0.048954,
     "end_time": "2025-03-20T07:57:49.348064",
     "exception": false,
     "start_time": "2025-03-20T07:57:49.299110",
     "status": "completed"
    },
    "tags": []
   },
   "outputs": [],
   "source": [
    "# Prepare training data\n",
    "X = train_df[['country', 'store', 'product', 'year', 'month', 'day', 'dayofweek', 'weekofyear']]\n",
    "y = train_df['num_sold']\n",
    "X_train, X_val, y_train, y_val = train_test_split(X, y, test_size=0.2, random_state=42)"
   ]
  },
  {
   "cell_type": "code",
   "execution_count": 17,
   "id": "cfdfe84a",
   "metadata": {
    "execution": {
     "iopub.execute_input": "2025-03-20T07:57:49.361947Z",
     "iopub.status.busy": "2025-03-20T07:57:49.361603Z",
     "iopub.status.idle": "2025-03-20T07:57:49.365709Z",
     "shell.execute_reply": "2025-03-20T07:57:49.364853Z"
    },
    "papermill": {
     "duration": 0.012755,
     "end_time": "2025-03-20T07:57:49.367205",
     "exception": false,
     "start_time": "2025-03-20T07:57:49.354450",
     "status": "completed"
    },
    "tags": []
   },
   "outputs": [],
   "source": [
    "# Initialize and train models\n",
    "rf_model = RandomForestRegressor(random_state=42)\n",
    "dt_model = DecisionTreeRegressor(random_state=42)\n"
   ]
  },
  {
   "cell_type": "code",
   "execution_count": 18,
   "id": "854d8645",
   "metadata": {
    "execution": {
     "iopub.execute_input": "2025-03-20T07:57:49.381143Z",
     "iopub.status.busy": "2025-03-20T07:57:49.380798Z",
     "iopub.status.idle": "2025-03-20T07:58:48.891474Z",
     "shell.execute_reply": "2025-03-20T07:58:48.890426Z"
    },
    "papermill": {
     "duration": 59.526483,
     "end_time": "2025-03-20T07:58:48.900101",
     "exception": false,
     "start_time": "2025-03-20T07:57:49.373618",
     "status": "completed"
    },
    "tags": []
   },
   "outputs": [
    {
     "data": {
      "text/html": [
       "<style>#sk-container-id-1 {color: black;background-color: white;}#sk-container-id-1 pre{padding: 0;}#sk-container-id-1 div.sk-toggleable {background-color: white;}#sk-container-id-1 label.sk-toggleable__label {cursor: pointer;display: block;width: 100%;margin-bottom: 0;padding: 0.3em;box-sizing: border-box;text-align: center;}#sk-container-id-1 label.sk-toggleable__label-arrow:before {content: \"▸\";float: left;margin-right: 0.25em;color: #696969;}#sk-container-id-1 label.sk-toggleable__label-arrow:hover:before {color: black;}#sk-container-id-1 div.sk-estimator:hover label.sk-toggleable__label-arrow:before {color: black;}#sk-container-id-1 div.sk-toggleable__content {max-height: 0;max-width: 0;overflow: hidden;text-align: left;background-color: #f0f8ff;}#sk-container-id-1 div.sk-toggleable__content pre {margin: 0.2em;color: black;border-radius: 0.25em;background-color: #f0f8ff;}#sk-container-id-1 input.sk-toggleable__control:checked~div.sk-toggleable__content {max-height: 200px;max-width: 100%;overflow: auto;}#sk-container-id-1 input.sk-toggleable__control:checked~label.sk-toggleable__label-arrow:before {content: \"▾\";}#sk-container-id-1 div.sk-estimator input.sk-toggleable__control:checked~label.sk-toggleable__label {background-color: #d4ebff;}#sk-container-id-1 div.sk-label input.sk-toggleable__control:checked~label.sk-toggleable__label {background-color: #d4ebff;}#sk-container-id-1 input.sk-hidden--visually {border: 0;clip: rect(1px 1px 1px 1px);clip: rect(1px, 1px, 1px, 1px);height: 1px;margin: -1px;overflow: hidden;padding: 0;position: absolute;width: 1px;}#sk-container-id-1 div.sk-estimator {font-family: monospace;background-color: #f0f8ff;border: 1px dotted black;border-radius: 0.25em;box-sizing: border-box;margin-bottom: 0.5em;}#sk-container-id-1 div.sk-estimator:hover {background-color: #d4ebff;}#sk-container-id-1 div.sk-parallel-item::after {content: \"\";width: 100%;border-bottom: 1px solid gray;flex-grow: 1;}#sk-container-id-1 div.sk-label:hover label.sk-toggleable__label {background-color: #d4ebff;}#sk-container-id-1 div.sk-serial::before {content: \"\";position: absolute;border-left: 1px solid gray;box-sizing: border-box;top: 0;bottom: 0;left: 50%;z-index: 0;}#sk-container-id-1 div.sk-serial {display: flex;flex-direction: column;align-items: center;background-color: white;padding-right: 0.2em;padding-left: 0.2em;position: relative;}#sk-container-id-1 div.sk-item {position: relative;z-index: 1;}#sk-container-id-1 div.sk-parallel {display: flex;align-items: stretch;justify-content: center;background-color: white;position: relative;}#sk-container-id-1 div.sk-item::before, #sk-container-id-1 div.sk-parallel-item::before {content: \"\";position: absolute;border-left: 1px solid gray;box-sizing: border-box;top: 0;bottom: 0;left: 50%;z-index: -1;}#sk-container-id-1 div.sk-parallel-item {display: flex;flex-direction: column;z-index: 1;position: relative;background-color: white;}#sk-container-id-1 div.sk-parallel-item:first-child::after {align-self: flex-end;width: 50%;}#sk-container-id-1 div.sk-parallel-item:last-child::after {align-self: flex-start;width: 50%;}#sk-container-id-1 div.sk-parallel-item:only-child::after {width: 0;}#sk-container-id-1 div.sk-dashed-wrapped {border: 1px dashed gray;margin: 0 0.4em 0.5em 0.4em;box-sizing: border-box;padding-bottom: 0.4em;background-color: white;}#sk-container-id-1 div.sk-label label {font-family: monospace;font-weight: bold;display: inline-block;line-height: 1.2em;}#sk-container-id-1 div.sk-label-container {text-align: center;}#sk-container-id-1 div.sk-container {/* jupyter's `normalize.less` sets `[hidden] { display: none; }` but bootstrap.min.css set `[hidden] { display: none !important; }` so we also need the `!important` here to be able to override the default hidden behavior on the sphinx rendered scikit-learn.org. See: https://github.com/scikit-learn/scikit-learn/issues/21755 */display: inline-block !important;position: relative;}#sk-container-id-1 div.sk-text-repr-fallback {display: none;}</style><div id=\"sk-container-id-1\" class=\"sk-top-container\"><div class=\"sk-text-repr-fallback\"><pre>DecisionTreeRegressor(random_state=42)</pre><b>In a Jupyter environment, please rerun this cell to show the HTML representation or trust the notebook. <br />On GitHub, the HTML representation is unable to render, please try loading this page with nbviewer.org.</b></div><div class=\"sk-container\" hidden><div class=\"sk-item\"><div class=\"sk-estimator sk-toggleable\"><input class=\"sk-toggleable__control sk-hidden--visually\" id=\"sk-estimator-id-1\" type=\"checkbox\" checked><label for=\"sk-estimator-id-1\" class=\"sk-toggleable__label sk-toggleable__label-arrow\">DecisionTreeRegressor</label><div class=\"sk-toggleable__content\"><pre>DecisionTreeRegressor(random_state=42)</pre></div></div></div></div></div>"
      ],
      "text/plain": [
       "DecisionTreeRegressor(random_state=42)"
      ]
     },
     "execution_count": 18,
     "metadata": {},
     "output_type": "execute_result"
    }
   ],
   "source": [
    "rf_model.fit(X_train, y_train)\n",
    "dt_model.fit(X_train, y_train)"
   ]
  },
  {
   "cell_type": "code",
   "execution_count": 19,
   "id": "19b5189a",
   "metadata": {
    "execution": {
     "iopub.execute_input": "2025-03-20T07:58:48.914435Z",
     "iopub.status.busy": "2025-03-20T07:58:48.914096Z",
     "iopub.status.idle": "2025-03-20T07:58:51.261755Z",
     "shell.execute_reply": "2025-03-20T07:58:51.260733Z"
    },
    "papermill": {
     "duration": 2.356952,
     "end_time": "2025-03-20T07:58:51.263689",
     "exception": false,
     "start_time": "2025-03-20T07:58:48.906737",
     "status": "completed"
    },
    "tags": []
   },
   "outputs": [],
   "source": [
    "# Evaluate models\n",
    "rf_score = rf_model.score(X_val, y_val)\n",
    "dt_score = dt_model.score(X_val, y_val)"
   ]
  },
  {
   "cell_type": "code",
   "execution_count": 20,
   "id": "f94ad1d7",
   "metadata": {
    "execution": {
     "iopub.execute_input": "2025-03-20T07:58:51.278381Z",
     "iopub.status.busy": "2025-03-20T07:58:51.278017Z",
     "iopub.status.idle": "2025-03-20T07:58:51.284025Z",
     "shell.execute_reply": "2025-03-20T07:58:51.282986Z"
    },
    "papermill": {
     "duration": 0.015236,
     "end_time": "2025-03-20T07:58:51.285663",
     "exception": false,
     "start_time": "2025-03-20T07:58:51.270427",
     "status": "completed"
    },
    "tags": []
   },
   "outputs": [
    {
     "name": "stdout",
     "output_type": "stream",
     "text": [
      "Random Forest R^2 Score: 0.9888362944872309\n",
      "Decision Tree R^2 Score: 0.9808462056018972\n"
     ]
    }
   ],
   "source": [
    "print('Random Forest R^2 Score:', rf_score)\n",
    "print('Decision Tree R^2 Score:', dt_score)\n"
   ]
  },
  {
   "cell_type": "code",
   "execution_count": 21,
   "id": "ab9a399f",
   "metadata": {
    "execution": {
     "iopub.execute_input": "2025-03-20T07:58:51.300023Z",
     "iopub.status.busy": "2025-03-20T07:58:51.299689Z",
     "iopub.status.idle": "2025-03-20T07:58:54.065854Z",
     "shell.execute_reply": "2025-03-20T07:58:54.064869Z"
    },
    "papermill": {
     "duration": 2.775396,
     "end_time": "2025-03-20T07:58:54.067723",
     "exception": false,
     "start_time": "2025-03-20T07:58:51.292327",
     "status": "completed"
    },
    "tags": []
   },
   "outputs": [],
   "source": [
    "# Make predictions on the test set\n",
    "test_X = test_df[['country', 'store', 'product', 'year', 'month', 'day', 'dayofweek', 'weekofyear']]\n",
    "rf_predictions = rf_model.predict(test_X)\n",
    "dt_predictions = dt_model.predict(test_X)"
   ]
  },
  {
   "cell_type": "code",
   "execution_count": 22,
   "id": "284261fd",
   "metadata": {
    "execution": {
     "iopub.execute_input": "2025-03-20T07:58:54.083068Z",
     "iopub.status.busy": "2025-03-20T07:58:54.082727Z",
     "iopub.status.idle": "2025-03-20T07:58:54.088651Z",
     "shell.execute_reply": "2025-03-20T07:58:54.087436Z"
    },
    "papermill": {
     "duration": 0.016118,
     "end_time": "2025-03-20T07:58:54.090594",
     "exception": false,
     "start_time": "2025-03-20T07:58:54.074476",
     "status": "completed"
    },
    "tags": []
   },
   "outputs": [
    {
     "name": "stdout",
     "output_type": "stream",
     "text": [
      "Random Forest Predictions: [605.   783.09 689.5  362.88 413.79]\n",
      "Decision Tree Predictions: [605. 815. 680. 366. 392.]\n"
     ]
    }
   ],
   "source": [
    "# Display sample predictions\n",
    "print(\"Random Forest Predictions:\", rf_predictions[:5])\n",
    "print(\"Decision Tree Predictions:\", dt_predictions[:5])"
   ]
  },
  {
   "cell_type": "code",
   "execution_count": 23,
   "id": "b3a1e680",
   "metadata": {
    "execution": {
     "iopub.execute_input": "2025-03-20T07:58:54.104932Z",
     "iopub.status.busy": "2025-03-20T07:58:54.104560Z",
     "iopub.status.idle": "2025-03-20T07:58:54.477350Z",
     "shell.execute_reply": "2025-03-20T07:58:54.476238Z"
    },
    "papermill": {
     "duration": 0.382634,
     "end_time": "2025-03-20T07:58:54.479829",
     "exception": false,
     "start_time": "2025-03-20T07:58:54.097195",
     "status": "completed"
    },
    "tags": []
   },
   "outputs": [
    {
     "data": {
      "image/png": "[encoded data removed]",
      "text/plain": [
       "<Figure size 1200x600 with 1 Axes>"
      ]
     },
     "metadata": {},
     "output_type": "display_data"
    }
   ],
   "source": [
    "# Plot the Random Forest and Decision Tree predictions\n",
    "plt.figure(figsize=(12, 6))\n",
    "\n",
    "plt.plot(rf_predictions[:50], label='Random Forest Predictions', marker='o', linestyle='dashed')\n",
    "plt.plot(dt_predictions[:50], label='Decision Tree Predictions', marker='x', linestyle='dotted')\n",
    "\n",
    "plt.title('Model Predictions Comparison')\n",
    "plt.xlabel('Sample Index')\n",
    "plt.ylabel('Number Sold')\n",
    "plt.legend()\n",
    "plt.grid(True)\n",
    "plt.show()"
   ]
  },
  {
   "cell_type": "code",
   "execution_count": 24,
   "id": "8e543eef",
   "metadata": {
    "execution": {
     "iopub.execute_input": "2025-03-20T07:58:54.500810Z",
     "iopub.status.busy": "2025-03-20T07:58:54.500403Z",
     "iopub.status.idle": "2025-03-20T07:58:54.649945Z",
     "shell.execute_reply": "2025-03-20T07:58:54.648753Z"
    },
    "papermill": {
     "duration": 0.161702,
     "end_time": "2025-03-20T07:58:54.651773",
     "exception": false,
     "start_time": "2025-03-20T07:58:54.490071",
     "status": "completed"
    },
    "tags": []
   },
   "outputs": [
    {
     "name": "stdout",
     "output_type": "stream",
     "text": [
      "Submission file created successfully.\n"
     ]
    }
   ],
   "source": [
    "# Save the submission file\n",
    "submission_df['num_sold'] = rf_predictions\n",
    "submission_df.to_csv('submission.csv', index=False)\n",
    "print('Submission file created successfully.')"
   ]
  },
  {
   "cell_type": "code",
   "execution_count": null,
   "id": "c029c16b",
   "metadata": {
    "papermill": {
     "duration": 0.009279,
     "end_time": "2025-03-20T07:58:54.670595",
     "exception": false,
     "start_time": "2025-03-20T07:58:54.661316",
     "status": "completed"
    },
    "tags": []
   },
   "outputs": [],
   "source": []
  }
 ],
 "metadata": {
  "kaggle": {
   "accelerator": "none",
   "dataSources": [
    {
     "databundleVersionId": 10652996,
     "sourceId": 85723,
     "sourceType": "competition"
    }
   ],
   "dockerImageVersionId": 30839,
   "isGpuEnabled": false,
   "isInternetEnabled": false,
   "language": "python",
   "sourceType": "notebook"
  },
  "kernelspec": {
   "display_name": "Python 3",
   "language": "python",
   "name": "python3"
  },
  "language_info": {
   "codemirror_mode": {
    "name": "ipython",
    "version": 3
   },
   "file_extension": ".py",
   "mimetype": "text/x-python",
   "name": "python",
   "nbconvert_exporter": "python",
   "pygments_lexer": "ipython3",
   "version": "3.10.12"
  },
  "papermill": {
   "default_parameters": {},
   "duration": 74.263036,
   "end_time": "2025-03-20T07:58:55.600762",
   "environment_variables": {},
   "exception": null,
   "input_path": "__notebook__.ipynb",
   "output_path": "__notebook__.ipynb",
   "parameters": {},
   "start_time": "2025-03-20T07:57:41.337726",
   "version": "2.6.0"
  }
 },
 "nbformat": 4,
 "nbformat_minor": 5
}
